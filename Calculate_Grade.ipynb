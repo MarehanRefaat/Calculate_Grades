{
 "cells": [
  {
   "cell_type": "code",
   "execution_count": 1,
   "metadata": {},
   "outputs": [],
   "source": [
    "def cal_grade(input_avg):\n",
    "    if input_avg>=91 and input_avg<=100:\n",
    "        print(\"Your Grade is A1\")\n",
    "    elif input_avg>=81 and input_avg<91:\n",
    "        print(\"Your Grade is A2\")\n",
    "    elif input_avg>=71 and input_avg<81:\n",
    "        print(\"Your Grade is B1\")\n",
    "    elif input_avg>=61 and input_avg<71:\n",
    "        print(\"Your Grade is B2\")\n",
    "    elif input_avg>=51 and input_avg<61:\n",
    "        print(\"Your Grade is C1\")\n",
    "    elif input_avg>=41 and input_avg<51:\n",
    "        print(\"Your Grade is C2\")\n",
    "    elif input_avg>=33 and input_avg<41:\n",
    "        print(\"Your Grade is D\")\n",
    "    elif input_avg>=21 and input_avg<33:\n",
    "        print(\"Your Grade is E1\")\n",
    "    elif input_avg>=0 and input_avg<21:\n",
    "        print(\"Your Grade is E2\")\n",
    "    else:\n",
    "        print(\"Invalid Input!\")"
   ]
  },
  {
   "cell_type": "code",
   "execution_count": 5,
   "metadata": {},
   "outputs": [
    {
     "name": "stdout",
     "output_type": "stream",
     "text": [
      "Enter Your Marks in 6 Subjects: \n",
      "50\n",
      "57.5\n",
      "38\n",
      "91\n",
      "85\n",
      "70\n"
     ]
    }
   ],
   "source": [
    "print(\"Enter Your Marks in 6 Subjects: \")\n",
    "markOne = float(input())\n",
    "markTwo = float(input())\n",
    "markThree = float(input())\n",
    "markFour = float(input())\n",
    "markFive = float(input())\n",
    "markSix = float(input())"
   ]
  },
  {
   "cell_type": "code",
   "execution_count": 6,
   "metadata": {},
   "outputs": [
    {
     "name": "stdout",
     "output_type": "stream",
     "text": [
      "Your Grade is B2\n"
     ]
    }
   ],
   "source": [
    "total = markOne+markTwo+markThree+markFour+markFive+markSix\n",
    "avg = total/6\n",
    "cal_grade(avg)"
   ]
  }
 ],
 "metadata": {
  "kernelspec": {
   "display_name": "Python 3",
   "language": "python",
   "name": "python3"
  },
  "language_info": {
   "codemirror_mode": {
    "name": "ipython",
    "version": 3
   },
   "file_extension": ".py",
   "mimetype": "text/x-python",
   "name": "python",
   "nbconvert_exporter": "python",
   "pygments_lexer": "ipython3",
   "version": "3.7.6"
  }
 },
 "nbformat": 4,
 "nbformat_minor": 4
}
